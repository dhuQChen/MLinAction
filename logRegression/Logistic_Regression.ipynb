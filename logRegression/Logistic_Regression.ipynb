{
 "cells": [
  {
   "cell_type": "markdown",
   "metadata": {},
   "source": [
    "# 逻辑回归"
   ]
  },
  {
   "cell_type": "markdown",
   "metadata": {},
   "source": [
    "## 1. 什么是逻辑回归"
   ]
  },
  {
   "cell_type": "markdown",
   "metadata": {},
   "source": [
    "逻辑回归（Logistic Regression）也是机器学习一个最基本也是最常用的算法模型。与线性回归不同的是，逻辑回归主要用于对样本进行分类。因此，逻辑回归的输出是离散值。对于二分类问题，通常我们令正类输出为1，负类输出为0。例如一个心脏病预测的问题：根据患者的年龄、血压、体重等信息，来预测患者是否会有心脏病，这就是典型的逻辑回归问题。"
   ]
  },
  {
   "cell_type": "markdown",
   "metadata": {},
   "source": [
    "二元分类，一般情况下，理想的目标函数$f(x)\\geq0.5$，则判断为正类1；若$f(x)<0.5$，则判断为负类0。"
   ]
  },
  {
   "cell_type": "markdown",
   "metadata": {},
   "source": [
    "- $f(x)\\geq0.5$：$\\hat y=1$\n",
    "\n",
    "- $f(x)<0.5$：$\\hat y=0$"
   ]
  },
  {
   "cell_type": "markdown",
   "metadata": {},
   "source": [
    "## 2. 得分函数"
   ]
  },
  {
   "cell_type": "markdown",
   "metadata": {},
   "source": [
    "与线性回归类似，令逻辑回归的输入为x，维度为（m，k）。其中，m为样本个数，k为输入特征维度。输出为y，维度为（m，1）。引入参数$w_0,w_1,\\cdots,w_{k}$，计算线性回归的得分函数（score function）为："
   ]
  },
  {
   "cell_type": "markdown",
   "metadata": {},
   "source": [
    "$$s=w_0x_0+w_1x_1+\\cdots+w_kx_k$$"
   ]
  },
  {
   "cell_type": "markdown",
   "metadata": {},
   "source": [
    "但是这里得到的$s$是连续输出，范围为整个实数，无法应用与分类问题。方法是对得分函数$s$再处理，利用Sigmoid函数将数值限定在[0,1]之间。"
   ]
  },
  {
   "cell_type": "markdown",
   "metadata": {},
   "source": [
    "## 3. Sigmoid函数"
   ]
  },
  {
   "cell_type": "markdown",
   "metadata": {},
   "source": [
    "Sigmoid函数的表达式为："
   ]
  },
  {
   "cell_type": "markdown",
   "metadata": {},
   "source": [
    "$$\\theta(s)=\\frac{1}{1+e^{-s}}$$"
   ]
  },
  {
   "cell_type": "markdown",
   "metadata": {},
   "source": [
    "相应的函数图形为："
   ]
  },
  {
   "cell_type": "code",
   "execution_count": 16,
   "metadata": {},
   "outputs": [
    {
     "data": {
      "image/png": "[encoded data removed]",
      "text/plain": [
       "<matplotlib.figure.Figure at 0x8cb1978>"
      ]
     },
     "metadata": {},
     "output_type": "display_data"
    }
   ],
   "source": [
    "e = 0.01\n",
    "s = np.linspace(-1, 1, 100)\n",
    "h = np.log(1+np.exp(s))\n",
    "\n",
    "plt.plot(s, h, label=r'$L=log(1+e^{s})$')\n",
    "plt.legend()\n",
    "\n",
    "plt.show()"
   ]
  },
  {
   "cell_type": "code",
   "execution_count": 2,
   "metadata": {},
   "outputs": [
    {
     "data": {
      "image/png": "[encoded data removed]",
      "text/plain": [
       "<matplotlib.figure.Figure at 0x8f707b8>"
      ]
     },
     "metadata": {},
     "output_type": "display_data"
    }
   ],
   "source": [
    "import numpy as np\n",
    "import matplotlib.pyplot as plt\n",
    "\n",
    "s = np.linspace(-5,5,100)\n",
    "h = 1/(1+np.exp(-s))\n",
    "\n",
    "plt.plot(s, h, label=r'$S(z)=\\frac{1}{1+e^{-z}}$')\n",
    "plt.legend()\n",
    "plt.plot([-5,5],[0.5,0.5],'k--')\n",
    "plt.plot([0,0],[0,1],'k--')\n",
    "plt.show()"
   ]
  },
  {
   "cell_type": "markdown",
   "metadata": {},
   "source": [
    "![](img/../1.png)"
   ]
  },
  {
   "cell_type": "markdown",
   "metadata": {
    "collapsed": true
   },
   "source": [
    "根据之前计算得到的得分函数$s$（即$\\hat y$），若$s$很大，则$\\theta(s)\\approx 1$；若$s$很小，则$\\theta(s)\\approx 0$。通常来说，$\\theta(s)$与0.5比较，决定预测输出，从而进行分类。"
   ]
  },
  {
   "cell_type": "markdown",
   "metadata": {},
   "source": [
    "- $\\theta(s)\\geq 0.5$：正类\n",
    "\n",
    "- $\\theta(s)<0.5$：负类"
   ]
  },
  {
   "cell_type": "markdown",
   "metadata": {},
   "source": [
    "## 4. 代价函数"
   ]
  },
  {
   "cell_type": "markdown",
   "metadata": {},
   "source": [
    "逻辑回归的代价函数（Cost Function）一般采用交叉熵（Cross-entropy Error）。常用的交叉熵形式为："
   ]
  },
  {
   "cell_type": "markdown",
   "metadata": {},
   "source": [
    "$$J=-\\frac1m\\sum_{i=1}^m[y^{(i)}log\\hat y^{(i)}+(1-y^{(i)})log(1-\\hat y^{(i)})]$$"
   ]
  },
  {
   "cell_type": "markdown",
   "metadata": {},
   "source": [
    "上式中，$m$表示训练样本个数，$y^{(i)}$表示第$i$个样本真实标签，取值0或1，$\\hat y^{(i)}$表示第$i$个样本的预测输出，取值范围在(0,1)之间。"
   ]
  },
  {
   "cell_type": "markdown",
   "metadata": {},
   "source": [
    "其实，对于交叉熵的解释非常简单。分为两种情况："
   ]
  },
  {
   "cell_type": "markdown",
   "metadata": {},
   "source": [
    "- 当$y=1$时，$J=-\\frac1m\\sum_{i=1}^mlog\\hat y^{(i)}$"
   ]
  },
  {
   "cell_type": "markdown",
   "metadata": {},
   "source": [
    "此时，$J$的曲线类似于下图："
   ]
  },
  {
   "cell_type": "markdown",
   "metadata": {},
   "source": [
    "![](img/../2.png)"
   ]
  },
  {
   "cell_type": "markdown",
   "metadata": {},
   "source": [
    "通过上图可以很清楚看到，当$\\hat y=1$时，$J\\approx0$；当$\\hat y=0$时，$J\\approx\\infty$。由于该情况下，真实样本$y=1$，$J$的曲线正好与我们期望的一致，即$\\hat y$越接近1，损失函数$J$越小。"
   ]
  },
  {
   "cell_type": "markdown",
   "metadata": {},
   "source": [
    "- 当$y=0$时，$J=-\\sum_{(i=1)}^mlog(1-\\hat y^{(i)})$"
   ]
  },
  {
   "cell_type": "markdown",
   "metadata": {},
   "source": [
    "此时，$J$的曲线类似于下图："
   ]
  },
  {
   "cell_type": "markdown",
   "metadata": {},
   "source": [
    "![](img/../3.png)"
   ]
  },
  {
   "cell_type": "markdown",
   "metadata": {},
   "source": [
    "显然，当$\\hat y=1$时，$J\\approx\\infty$；当$\\hat y=0$时，$J\\approx0$。该情况下，真实样本$y=0$，$J$的曲线正好与我们期望的一致，即$\\hat y$越接近0，损失函数$J$越小。"
   ]
  },
  {
   "cell_type": "markdown",
   "metadata": {},
   "source": [
    "综上所述，代价函数$J$的数学表达式能够很好地反映$\\hat y$与$y$之间的偏差程度，偏差越大，“惩罚”越大！"
   ]
  },
  {
   "cell_type": "markdown",
   "metadata": {},
   "source": [
    "## 5. 偏导数"
   ]
  },
  {
   "cell_type": "markdown",
   "metadata": {},
   "source": [
    "代价函数$J$的表达式为："
   ]
  },
  {
   "cell_type": "markdown",
   "metadata": {},
   "source": [
    "$$J=-\\frac1m\\sum_{i=1}^m[y^{(i)}log\\hat y^{(i)}+(1-y^{(i)})log(1-\\hat y^{(i)})]$$"
   ]
  },
  {
   "cell_type": "markdown",
   "metadata": {},
   "source": [
    "将$\\hat y=\\theta(s)$，$s=w_0x_0+w_1x_1+\\cdots+w_kx_k$代入，并写出矩阵形式："
   ]
  },
  {
   "cell_type": "markdown",
   "metadata": {},
   "source": [
    "$$J=-\\frac1m[Ylog\\theta(XW)+(1-Y)log(1-\\theta(XW)]$$"
   ]
  },
  {
   "cell_type": "markdown",
   "metadata": {},
   "source": [
    "其中，矩阵$W$是待求参数，计算$J$对$W$的偏导数："
   ]
  },
  {
   "cell_type": "markdown",
   "metadata": {},
   "source": [
    "$$\\frac{\\partial J}{\\partial W}=\\frac{\\partial J}{\\partial\\theta(XW)}\\cdot\\frac{\\partial\\theta(XW)}{\\partial W}=\\frac1m \\frac{\\theta(XW)-Y}{\\theta(XW)(1-\\theta(XW))}\\cdot X^T\\theta(XW)(1-\\theta(XW))=\\frac1m X^T(Y-\\theta(XW))=\\frac1m X^T(Y-\\hat Y)$$"
   ]
  },
  {
   "cell_type": "markdown",
   "metadata": {},
   "source": [
    "推导过程并不复杂，只需记住$J$对$W$的偏导数为$\\frac1m X^T(Y-\\hat Y)$就好了。"
   ]
  },
  {
   "cell_type": "markdown",
   "metadata": {},
   "source": [
    "得到偏导数之后，我们就能写出参数$W$的更新公式了："
   ]
  },
  {
   "cell_type": "markdown",
   "metadata": {},
   "source": [
    "$$W=W-\\eta\\frac{\\partial J}{\\partial W}$$"
   ]
  },
  {
   "cell_type": "markdown",
   "metadata": {},
   "source": [
    "其中，$\\eta$是学习因子，即步进长度。"
   ]
  },
  {
   "cell_type": "markdown",
   "metadata": {},
   "source": [
    "## 6. 逻辑回归实例"
   ]
  },
  {
   "cell_type": "markdown",
   "metadata": {},
   "source": [
    "### 数据准备"
   ]
  },
  {
   "cell_type": "markdown",
   "metadata": {},
   "source": [
    "数据集我已经存放在'../data/'目录下，该数据集包含了100个样本，正负样本各50，特征维度为2。"
   ]
  },
  {
   "cell_type": "code",
   "execution_count": 2,
   "metadata": {},
   "outputs": [],
   "source": [
    "import numpy as np\n",
    "import pandas as pd\n",
    "\n",
    "data = pd.read_csv('./data.csv', header=None)\n",
    "# 样本输入，维度（100，2）\n",
    "X = data.iloc[:,:2].values\n",
    "m = X.shape[0]    # 样本个数\n",
    "# 样本输出，维度（100，）\n",
    "y = data.iloc[:,2].values.reshape((m,1))"
   ]
  },
  {
   "cell_type": "markdown",
   "metadata": {},
   "source": [
    "下面我们在二维平面上绘出正负样本的分布情况。"
   ]
  },
  {
   "cell_type": "code",
   "execution_count": 33,
   "metadata": {},
   "outputs": [
    {
     "data": {
      "image/png": "[encoded data removed]",
      "text/plain": [
       "<matplotlib.figure.Figure at 0xbb0a908>"
      ]
     },
     "metadata": {},
     "output_type": "display_data"
    }
   ],
   "source": [
    "import matplotlib.pyplot as plt\n",
    "\n",
    "plt.scatter(X[:50, 0], X[:50, 1], color='blue', marker='o', label='Positive')\n",
    "plt.scatter(X[50:, 0], X[50:, 1], color='red', marker='x', label='Negative')\n",
    "plt.xlabel('Feature 1')\n",
    "plt.ylabel('Feature 2')\n",
    "plt.legend(loc = 'upper left')\n",
    "plt.title('Original Data')\n",
    "plt.show()"
   ]
  },
  {
   "cell_type": "markdown",
   "metadata": {},
   "source": [
    "### 特征归一化"
   ]
  },
  {
   "cell_type": "markdown",
   "metadata": {},
   "source": [
    "首先分别对两个特征进行归一化处理，即："
   ]
  },
  {
   "cell_type": "markdown",
   "metadata": {},
   "source": [
    "$$X=\\frac{X-\\mu}{\\sigma^2}$$"
   ]
  },
  {
   "cell_type": "markdown",
   "metadata": {},
   "source": [
    "其中，$\\mu$是特征均值，$\\sigma^2$是特征方差。"
   ]
  },
  {
   "cell_type": "code",
   "execution_count": 34,
   "metadata": {},
   "outputs": [
    {
     "data": {
      "image/png": "[encoded data removed]",
      "text/plain": [
       "<matplotlib.figure.Figure at 0xb964320>"
      ]
     },
     "metadata": {},
     "output_type": "display_data"
    }
   ],
   "source": [
    "# 均值\n",
    "u = np.mean(X, axis=0)\n",
    "# 方差\n",
    "v = np.var(X, axis=0)\n",
    "\n",
    "X = (X - u) / v\n",
    "\n",
    "# 作图\n",
    "plt.scatter(X[:50, 0], X[:50, 1], color='blue', marker='o', label='Positive')\n",
    "plt.scatter(X[50:, 0], X[50:, 1], color='red', marker='x', label='Negative')\n",
    "plt.xlabel('Feature 1')\n",
    "plt.ylabel('Feature 2')\n",
    "plt.legend(loc = 'upper left')\n",
    "plt.title('Normalization data')\n",
    "plt.show()"
   ]
  },
  {
   "cell_type": "markdown",
   "metadata": {},
   "source": [
    "### 初始化"
   ]
  },
  {
   "cell_type": "code",
   "execution_count": 35,
   "metadata": {
    "collapsed": true
   },
   "outputs": [],
   "source": [
    "# X加上偏置项\n",
    "X = np.hstack((np.ones((X.shape[0],1)), X))\n",
    "# 权重初始化\n",
    "W = np.random.randn(3,1)\n",
    "N = 1000     # 迭代次数\n",
    "lr = 0.2    # 学习因子"
   ]
  },
  {
   "cell_type": "markdown",
   "metadata": {},
   "source": [
    "### 迭代更新训练"
   ]
  },
  {
   "cell_type": "code",
   "execution_count": 36,
   "metadata": {},
   "outputs": [
    {
     "data": {
      "image/png": "[encoded data removed]",
      "text/plain": [
       "<matplotlib.figure.Figure at 0xb921b38>"
      ]
     },
     "metadata": {},
     "output_type": "display_data"
    }
   ],
   "source": [
    "J_history = []    # 存放代价函数值\n",
    "for i in range(N):\n",
    "    s = np.dot(X,W)\n",
    "    h = 1 / (1 + np.exp(-s))\n",
    "    J = -1 / m * np.sum(y * np.log(h) + (1 - y) * np.log(1-h))\n",
    "    J_history.append(J)\n",
    "    dW = 1 / m * np.dot(X.T, h - y)\n",
    "    W = W - lr * dW\n",
    "\n",
    "# 绘制代价函数J_history变化\n",
    "plt.plot(J_history)\n",
    "plt.xlabel('Iterations')\n",
    "plt.ylabel('J(w)')\n",
    "plt.show()"
   ]
  },
  {
   "cell_type": "markdown",
   "metadata": {
    "collapsed": true
   },
   "source": [
    "通过J_history发现代价函数是逐渐减小的，在迭代次数接近1000的时候，$J(w)$已经取得了比较小的值了。"
   ]
  },
  {
   "cell_type": "markdown",
   "metadata": {},
   "source": [
    "最后，我们来看一下逻辑回归的分类正确率："
   ]
  },
  {
   "cell_type": "code",
   "execution_count": 47,
   "metadata": {},
   "outputs": [
    {
     "name": "stdout",
     "output_type": "stream",
     "text": [
      "分类正确率：1.000000\n"
     ]
    }
   ],
   "source": [
    "s = np.dot(X, W)\n",
    "p = 1 / (1 + np.exp(-s))\n",
    "y_pred[p >= 0.5] = 1        # 预测正类\n",
    "y_pred[p < 0.5] = 0         # 预测负类\n",
    "accuracy = np.mean(y_pred == y)\n",
    "print('分类正确率：%2f' % accuracy)"
   ]
  },
  {
   "cell_type": "markdown",
   "metadata": {},
   "source": [
    "可见逻辑回归分类算法，完全正确地将正负样本分开来了。"
   ]
  },
  {
   "cell_type": "markdown",
   "metadata": {},
   "source": [
    "## 7. 总结"
   ]
  },
  {
   "cell_type": "markdown",
   "metadata": {},
   "source": [
    "逻辑回归（Logistic Regression）与线性回归（Linear Regression）类似，但逻辑回归处理的是分类问题。利用了Sigmoid函数，根据极大似然原理构造了对应的代价函数。逻辑回归是一种最基本的分类算法之一。"
   ]
  },
  {
   "cell_type": "code",
   "execution_count": null,
   "metadata": {
    "collapsed": true
   },
   "outputs": [],
   "source": []
  }
 ],
 "metadata": {
  "kernelspec": {
   "display_name": "Python 3",
   "language": "python",
   "name": "python3"
  },
  "language_info": {
   "codemirror_mode": {
    "name": "ipython",
    "version": 3
   },
   "file_extension": ".py",
   "mimetype": "text/x-python",
   "name": "python",
   "nbconvert_exporter": "python",
   "pygments_lexer": "ipython3",
   "version": "3.6.3"
  }
 },
 "nbformat": 4,
 "nbformat_minor": 2
}
